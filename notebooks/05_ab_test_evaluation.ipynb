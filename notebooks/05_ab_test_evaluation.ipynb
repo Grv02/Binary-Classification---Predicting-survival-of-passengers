{
 "cells": [
  {
   "cell_type": "code",
   "execution_count": 1,
   "metadata": {},
   "outputs": [
    {
     "name": "stdout",
     "output_type": "stream",
     "text": [
      "Fitting 3 folds for each of 3 candidates, totalling 9 fits\n",
      "Fitting 3 folds for each of 3 candidates, totalling 9 fits\n",
      "Fitting 3 folds for each of 3 candidates, totalling 9 fits\n",
      "Fitting 3 folds for each of 3 candidates, totalling 9 fits\n",
      "Fitting 3 folds for each of 3 candidates, totalling 9 fits\n",
      "Paired t-test on Accuracy:\n",
      "  T-statistic: 2.429, P-value: 0.072\n",
      "Baseline Accuracy Mean: 0.7899 ± 0.0329\n",
      "Experiment Accuracy Mean: 0.8235 ± 0.0428\n"
     ]
    }
   ],
   "source": [
    "import numpy as np\n",
    "from scipy.stats import ttest_rel\n",
    "\n",
    "import sys\n",
    "import os\n",
    "import pandas as pd\n",
    "\n",
    "root_dir = os.path.abspath(\"..\")  \n",
    "src_dir = os.path.join(root_dir, \"src\")\n",
    "sys.path.append(src_dir)\n",
    "\n",
    "from model_baseline import train_baseline\n",
    "from model_experiment import train_experimental\n",
    "from utils import compare_metrics\n",
    "\n",
    "train_processed = pd.read_csv('../data/processed/train_processed.csv')\n",
    "X = train_processed.drop('Survived', axis=1)\n",
    "y = train_processed['Survived']\n",
    "\n",
    "# Collect metrics over multiple runs or folds\n",
    "acc_baseline_list = []\n",
    "auc_baseline_list = []\n",
    "\n",
    "acc_exp_list = []\n",
    "auc_exp_list = []\n",
    "\n",
    "# multiple random states for illustration\n",
    "for seed in [42, 43, 44, 45, 46]:\n",
    "    clf_b, acc_b, auc_b = train_baseline(X, y, random_state=seed)\n",
    "    _, acc_e, auc_e = train_experimental(X, y, random_state=seed, n_iter=3)  # fewer n_iter for speed\n",
    "    acc_baseline_list.append(acc_b)\n",
    "    auc_baseline_list.append(auc_b)\n",
    "    acc_exp_list.append(acc_e)\n",
    "    auc_exp_list.append(auc_e)\n",
    "\n",
    "# Statistical Comparison\n",
    "acc_baseline_arr = np.array(acc_baseline_list)\n",
    "acc_exp_arr = np.array(acc_exp_list)\n",
    "\n",
    "t_stat, p_val = ttest_rel(acc_exp_arr, acc_baseline_arr)\n",
    "print(\"Paired t-test on Accuracy:\")\n",
    "print(f\"  T-statistic: {t_stat:.3f}, P-value: {p_val:.3f}\")\n",
    "\n",
    "# Show average results\n",
    "print(f\"Baseline Accuracy Mean: {acc_baseline_arr.mean():.4f} ± {acc_baseline_arr.std():.4f}\")\n",
    "print(f\"Experiment Accuracy Mean: {acc_exp_arr.mean():.4f} ± {acc_exp_arr.std():.4f}\")\n"
   ]
  }
 ],
 "metadata": {
  "kernelspec": {
   "display_name": "research",
   "language": "python",
   "name": "python3"
  },
  "language_info": {
   "codemirror_mode": {
    "name": "ipython",
    "version": 3
   },
   "file_extension": ".py",
   "mimetype": "text/x-python",
   "name": "python",
   "nbconvert_exporter": "python",
   "pygments_lexer": "ipython3",
   "version": "3.10.15"
  }
 },
 "nbformat": 4,
 "nbformat_minor": 2
}
