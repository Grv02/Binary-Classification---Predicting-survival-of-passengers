{
 "cells": [
  {
   "cell_type": "code",
   "execution_count": 1,
   "metadata": {},
   "outputs": [
    {
     "name": "stdout",
     "output_type": "stream",
     "text": [
      "Processed data saved.\n"
     ]
    },
    {
     "name": "stderr",
     "output_type": "stream",
     "text": [
      "d:\\Codes\\titanic_test\\src\\data_preprocessing.py:21: FutureWarning: A value is trying to be set on a copy of a DataFrame or Series through chained assignment using an inplace method.\n",
      "The behavior will change in pandas 3.0. This inplace method will never work because the intermediate object on which we are setting values always behaves as a copy.\n",
      "\n",
      "For example, when doing 'df[col].method(value, inplace=True)', try using 'df.method({col: value}, inplace=True)' or df[col] = df[col].method(value) instead, to perform the operation inplace on the original object.\n",
      "\n",
      "\n",
      "  df['Embarked'].fillna(df['Embarked'].mode()[0],inplace=True)\n",
      "d:\\Codes\\titanic_test\\src\\data_preprocessing.py:25: FutureWarning: A value is trying to be set on a copy of a DataFrame or Series through chained assignment using an inplace method.\n",
      "The behavior will change in pandas 3.0. This inplace method will never work because the intermediate object on which we are setting values always behaves as a copy.\n",
      "\n",
      "For example, when doing 'df[col].method(value, inplace=True)', try using 'df.method({col: value}, inplace=True)' or df[col] = df[col].method(value) instead, to perform the operation inplace on the original object.\n",
      "\n",
      "\n",
      "  df['Fare'].fillna(df['Fare'].median(),inplace=True)\n"
     ]
    }
   ],
   "source": [
    "import pandas as pd\n",
    "from IPython.display import display\n",
    "import sys\n",
    "import os\n",
    "\n",
    "root_dir = os.path.abspath(\"..\")  # This goes up one directory\n",
    "src_dir = os.path.join(root_dir, \"src\")\n",
    "sys.path.append(src_dir)\n",
    "\n",
    "from data_preprocessing import load_data, handle_missing_values\n",
    "from feature_engineering import preprocess_data\n",
    "\n",
    "train_df, test_df = load_data('../data/raw/train.csv', '../data/raw/test.csv')\n",
    "\n",
    "#Handle missing basic columns\n",
    "\n",
    "train_df = handle_missing_values(train_df)\n",
    "test_df = handle_missing_values(test_df)\n",
    "\n",
    "# Perform advanced feature engineering (fill_missing_ages, etc.)\n",
    "X_train, y_train = preprocess_data(train_df, is_train=True)\n",
    "X_test, _ = preprocess_data(test_df, is_train=False)\n",
    "\n",
    "# Save processed data\n",
    "train_processed = pd.concat([X_train, pd.Series(y_train, name='Survived')], axis=1)\n",
    "train_processed.to_csv('../data/processed/train_processed.csv', index=False)\n",
    "\n",
    "X_test.to_csv('../data/processed/test_processed.csv', index=False)\n",
    "print(\"Processed data saved.\")\n"
   ]
  }
 ],
 "metadata": {
  "kernelspec": {
   "display_name": "research",
   "language": "python",
   "name": "python3"
  },
  "language_info": {
   "codemirror_mode": {
    "name": "ipython",
    "version": 3
   },
   "file_extension": ".py",
   "mimetype": "text/x-python",
   "name": "python",
   "nbconvert_exporter": "python",
   "pygments_lexer": "ipython3",
   "version": "3.10.15"
  }
 },
 "nbformat": 4,
 "nbformat_minor": 2
}
