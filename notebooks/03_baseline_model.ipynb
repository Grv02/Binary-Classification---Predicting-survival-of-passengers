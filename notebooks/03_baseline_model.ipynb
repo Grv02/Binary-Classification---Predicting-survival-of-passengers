{
 "cells": [
  {
   "cell_type": "code",
   "execution_count": 1,
   "metadata": {},
   "outputs": [
    {
     "name": "stdout",
     "output_type": "stream",
     "text": [
      "Baseline Accuracy: 0.7989\n",
      "Baseline ROC-AUC : 0.8960\n"
     ]
    }
   ],
   "source": [
    "import sys\n",
    "import os\n",
    "import pandas as pd\n",
    "\n",
    "\n",
    "root_dir = os.path.abspath(\"..\")  \n",
    "src_dir = os.path.join(root_dir, \"src\")\n",
    "sys.path.append(src_dir)\n",
    "\n",
    "from model_baseline import train_baseline\n",
    "\n",
    "train_processed = pd.read_csv('../data/processed/train_processed.csv')\n",
    "X_train = train_processed.drop('Survived', axis=1)\n",
    "y_train = train_processed['Survived']\n",
    "\n",
    "clf_baseline, acc_baseline, auc_baseline = train_baseline(X_train, y_train)\n",
    "\n",
    "print(f\"Baseline Accuracy: {acc_baseline:.4f}\")\n",
    "print(f\"Baseline ROC-AUC : {auc_baseline:.4f}\")\n"
   ]
  }
 ],
 "metadata": {
  "kernelspec": {
   "display_name": "research",
   "language": "python",
   "name": "python3"
  },
  "language_info": {
   "codemirror_mode": {
    "name": "ipython",
    "version": 3
   },
   "file_extension": ".py",
   "mimetype": "text/x-python",
   "name": "python",
   "nbconvert_exporter": "python",
   "pygments_lexer": "ipython3",
   "version": "3.10.15"
  }
 },
 "nbformat": 4,
 "nbformat_minor": 2
}
