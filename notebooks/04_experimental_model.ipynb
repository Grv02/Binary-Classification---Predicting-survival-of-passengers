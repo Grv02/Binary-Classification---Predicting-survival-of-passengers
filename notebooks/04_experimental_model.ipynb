{
 "cells": [
  {
   "cell_type": "code",
   "execution_count": null,
   "metadata": {},
   "outputs": [
    {
     "name": "stdout",
     "output_type": "stream",
     "text": [
      "Fitting 3 folds for each of 5 candidates, totalling 15 fits\n",
      "Experimental Accuracy: 0.8212\n",
      "Experimental ROC-AUC : 0.9039\n"
     ]
    }
   ],
   "source": [
    "import sys\n",
    "import os\n",
    "import pandas as pd\n",
    "\n",
    "root_dir = os.path.abspath(\"..\")  \n",
    "src_dir = os.path.join(root_dir, \"src\")\n",
    "sys.path.append(src_dir)\n",
    "\n",
    "from model_experiment import train_experimental\n",
    "\n",
    "train_processed = pd.read_csv('../data/processed/train_processed.csv')\n",
    "X_train = train_processed.drop('Survived', axis=1)\n",
    "y_train = train_processed['Survived']\n",
    "\n",
    "# Train Experimental Model (XGBoost)\n",
    "best_model, acc_exp, auc_exp = train_experimental(X_train, y_train)\n",
    "\n",
    "print(f\"Experimental Accuracy: {acc_exp:.4f}\")\n",
    "print(f\"Experimental ROC-AUC : {auc_exp:.4f}\")\n"
   ]
  },
  {
   "cell_type": "code",
   "execution_count": null,
   "metadata": {},
   "outputs": [],
   "source": []
  }
 ],
 "metadata": {
  "kernelspec": {
   "display_name": "research",
   "language": "python",
   "name": "python3"
  },
  "language_info": {
   "codemirror_mode": {
    "name": "ipython",
    "version": 3
   },
   "file_extension": ".py",
   "mimetype": "text/x-python",
   "name": "python",
   "nbconvert_exporter": "python",
   "pygments_lexer": "ipython3",
   "version": "3.10.15"
  }
 },
 "nbformat": 4,
 "nbformat_minor": 2
}
